{
 "cells": [
  {
   "cell_type": "markdown",
   "id": "e526f594-d4a4-47f1-981d-74ff17c0068e",
   "metadata": {},
   "source": [
    "# Week 2 Quiz - Scribble\n"
   ]
  },
  {
   "cell_type": "code",
   "execution_count": 2,
   "id": "be9cd972-4a14-42d7-8a2d-9ab48112b024",
   "metadata": {},
   "outputs": [],
   "source": [
    "import numpy as np"
   ]
  },
  {
   "cell_type": "code",
   "execution_count": 3,
   "id": "d91f878d-7bb4-4c4e-a55f-952dc6f5adf4",
   "metadata": {},
   "outputs": [],
   "source": [
    "# Define the matrix for the system.\n",
    "\n",
    "A = np.array([\n",
    "        [7, 5, 3],\n",
    "        [3, 2, 5],\n",
    "        [1, 2, 1]\n",
    "    ], dtype=np.dtype(float))\n",
    "\n",
    "b = np.array([120, 70, 20], dtype=np.dtype(float))"
   ]
  },
  {
   "cell_type": "code",
   "execution_count": 6,
   "id": "1c4ebe3b-a2b2-4689-82f5-62f9f751e502",
   "metadata": {},
   "outputs": [
    {
     "name": "stdout",
     "output_type": "stream",
     "text": [
      "[[7. 5. 3.]\n",
      " [3. 2. 5.]\n",
      " [1. 2. 1.]]\n",
      "[[120.]\n",
      " [ 70.]\n",
      " [ 20.]]\n"
     ]
    }
   ],
   "source": [
    "print(A)\n",
    "print(b.reshape(3, 1))"
   ]
  },
  {
   "cell_type": "code",
   "execution_count": 7,
   "id": "e90ac77c-21b4-4ec6-94a0-764fdad54c3b",
   "metadata": {},
   "outputs": [],
   "source": [
    "# Some functions.\n",
    "\n",
    "def MultiplyRow(M, row_num, row_num_multiple):\n",
    "    # .copy() function is required here to keep the original matrix without any changes\n",
    "    M_new = M.copy()\n",
    "    M_new[row_num] = M_new[row_num] * row_num_multiple\n",
    "    return M_new\n",
    "\n",
    "def AddRows(M, row_num_1, row_num_2, row_num_1_multiple):\n",
    "    M_new = M.copy()\n",
    "    M_new[row_num_2] = row_num_1_multiple * M_new[row_num_1] + M_new[row_num_2]\n",
    "    return M_new\n",
    "\n",
    "def SwapRows(M, row_num_1, row_num_2):\n",
    "    M_new = M.copy()\n",
    "    M_new[[row_num_1, row_num_2]] = M_new[[row_num_2, row_num_1]]\n",
    "    return M_new"
   ]
  },
  {
   "cell_type": "code",
   "execution_count": 15,
   "id": "5b975522-ce32-4742-a124-c79c31a5a1ed",
   "metadata": {},
   "outputs": [
    {
     "name": "stdout",
     "output_type": "stream",
     "text": [
      "x=array([15.,  0.,  5.])\n"
     ]
    }
   ],
   "source": [
    "x = np.linalg.solve(A, b)\n",
    "with np.printoptions(precision=2, suppress=True):\n",
    "    print(f\"{x=}\")"
   ]
  },
  {
   "cell_type": "code",
   "execution_count": 19,
   "id": "0c39b6f0-891f-4fc8-b34d-990632e35e5a",
   "metadata": {},
   "outputs": [
    {
     "name": "stdout",
     "output_type": "stream",
     "text": [
      "d=-34.00\n"
     ]
    }
   ],
   "source": [
    "d = np.linalg.det(A)\n",
    "\n",
    "print(f\"{d=:.2f}\")"
   ]
  },
  {
   "cell_type": "code",
   "execution_count": null,
   "id": "edce07e3-7f0b-47c0-aac2-3daf8833557c",
   "metadata": {},
   "outputs": [],
   "source": []
  }
 ],
 "metadata": {
  "kernelspec": {
   "display_name": "Python 3 (ipykernel)",
   "language": "python",
   "name": "python3"
  },
  "language_info": {
   "codemirror_mode": {
    "name": "ipython",
    "version": 3
   },
   "file_extension": ".py",
   "mimetype": "text/x-python",
   "name": "python",
   "nbconvert_exporter": "python",
   "pygments_lexer": "ipython3",
   "version": "3.9.13"
  }
 },
 "nbformat": 4,
 "nbformat_minor": 5
}
