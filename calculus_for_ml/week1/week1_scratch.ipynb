{
 "cells": [
  {
   "cell_type": "markdown",
   "id": "8dbd07d2-6dfd-4dc5-bf66-c9a3640af1e9",
   "metadata": {},
   "source": [
    "# Week 1 scratch\n",
    "\n",
    "RS15042023"
   ]
  },
  {
   "cell_type": "code",
   "execution_count": 1,
   "id": "5694d966-16d3-4e6f-93ea-554f7585b52a",
   "metadata": {},
   "outputs": [
    {
     "name": "stdout",
     "output_type": "stream",
     "text": [
      "The slope is 2.0\n"
     ]
    }
   ],
   "source": [
    "# Quiz 1\n",
    "\n",
    "print(f\"The slope is {(1.6 - 0.8) / 0.4}\")"
   ]
  },
  {
   "cell_type": "code",
   "execution_count": 6,
   "id": "73adb263-285d-4515-aef4-2bb0a05cd260",
   "metadata": {},
   "outputs": [
    {
     "data": {
      "text/plain": [
       "0.34321869999999993"
      ]
     },
     "execution_count": 6,
     "metadata": {},
     "output_type": "execute_result"
    }
   ],
   "source": [
    "(0.7)**7 + (0.3) ** 3\n",
    "\n",
    "(0.3)**7 + (0.7) ** 3"
   ]
  },
  {
   "cell_type": "code",
   "execution_count": null,
   "id": "fcd096ed-9cfd-4651-a54f-a6ee3df19ae2",
   "metadata": {},
   "outputs": [],
   "source": []
  }
 ],
 "metadata": {
  "kernelspec": {
   "display_name": "Python 3 (ipykernel)",
   "language": "python",
   "name": "python3"
  },
  "language_info": {
   "codemirror_mode": {
    "name": "ipython",
    "version": 3
   },
   "file_extension": ".py",
   "mimetype": "text/x-python",
   "name": "python",
   "nbconvert_exporter": "python",
   "pygments_lexer": "ipython3",
   "version": "3.9.16"
  }
 },
 "nbformat": 4,
 "nbformat_minor": 5
}
