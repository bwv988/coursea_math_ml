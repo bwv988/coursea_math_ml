{
 "cells": [
  {
   "cell_type": "markdown",
   "id": "01b29415-6845-4726-990e-9e79d3531f73",
   "metadata": {},
   "source": [
    "## Week 1 Scratch"
   ]
  },
  {
   "cell_type": "code",
   "execution_count": 2,
   "id": "ad5ea801-1b03-4c55-8c69-bf06c5a9b692",
   "metadata": {},
   "outputs": [],
   "source": [
    "import numpy as np"
   ]
  },
  {
   "cell_type": "code",
   "execution_count": 6,
   "id": "b256c0ce-9d7f-4ae6-ab94-78dcacb41c44",
   "metadata": {},
   "outputs": [
    {
     "name": "stdout",
     "output_type": "stream",
     "text": [
      "0.0\n"
     ]
    }
   ],
   "source": [
    "mat1 = np.array([\n",
    "    [1, 1, 1],\n",
    "    [1, 1, 2], \n",
    "    [0, 0, -1]\n",
    "])\n",
    "\n",
    "print(np.linalg.det(mat1))"
   ]
  },
  {
   "cell_type": "markdown",
   "id": "7833929e-e7f4-40ae-ab2b-1097e132b395",
   "metadata": {},
   "source": [
    "Wow, this is bad, it's supposed to be 0!"
   ]
  },
  {
   "cell_type": "code",
   "execution_count": 8,
   "id": "ce73b25f-ec32-4fec-8b7a-991d241ec554",
   "metadata": {},
   "outputs": [
    {
     "name": "stdout",
     "output_type": "stream",
     "text": [
      "-1.665334536937729e-16\n"
     ]
    }
   ],
   "source": [
    "mat2 = np.array([\n",
    "    [1, 0, 1],\n",
    "    [0, 1, 0], \n",
    "    [3, 3, 3]\n",
    "])\n",
    "\n",
    "print(np.linalg.det(mat2))"
   ]
  },
  {
   "cell_type": "code",
   "execution_count": 9,
   "id": "ec7565b6-4c91-48cf-aa5d-df6644e38b5f",
   "metadata": {},
   "outputs": [],
   "source": [
    "import scipy"
   ]
  },
  {
   "cell_type": "code",
   "execution_count": 10,
   "id": "f044efcc-86ff-4f5d-afb1-e5f1a5dd670d",
   "metadata": {},
   "outputs": [
    {
     "name": "stdout",
     "output_type": "stream",
     "text": [
      "0.0\n"
     ]
    }
   ],
   "source": [
    "print(scipy.linalg.det(mat2))"
   ]
  },
  {
   "cell_type": "code",
   "execution_count": 11,
   "id": "da2dd3a9-4d37-4350-a9f9-64d8a107dca1",
   "metadata": {},
   "outputs": [
    {
     "name": "stdout",
     "output_type": "stream",
     "text": [
      "6.0\n"
     ]
    }
   ],
   "source": [
    "mat3 = np.array([\n",
    "    [1, 1, 1],\n",
    "    [0, 2, 2], \n",
    "    [0, 0, 3]\n",
    "])\n",
    "\n",
    "print(np.linalg.det(mat3))"
   ]
  },
  {
   "cell_type": "code",
   "execution_count": 24,
   "id": "77723dce-95cb-4a68-baf4-8ff6bbc79a44",
   "metadata": {},
   "outputs": [
    {
     "name": "stdout",
     "output_type": "stream",
     "text": [
      "0.0\n"
     ]
    }
   ],
   "source": [
    "mat4 = np.array([\n",
    "    [1, 2, 3],\n",
    "    [0, 2, 2], \n",
    "    [1, 4, 5]\n",
    "])\n",
    "\n",
    "print(np.linalg.det(mat4))"
   ]
  },
  {
   "cell_type": "markdown",
   "id": "2f293024-46a1-4958-ab30-c02fb738412c",
   "metadata": {},
   "source": [
    "### Quiz"
   ]
  },
  {
   "cell_type": "code",
   "execution_count": 24,
   "id": "34a10809",
   "metadata": {},
   "outputs": [
    {
     "name": "stdout",
     "output_type": "stream",
     "text": [
      "0.0\n"
     ]
    }
   ],
   "source": [
    "mat4 = np.array([\n",
    "    [1, 2, 3],\n",
    "    [0, 2, 2], \n",
    "    [1, 4, 5]\n",
    "])\n",
    "\n",
    "print(np.linalg.det(mat4))"
   ]
  },
  {
   "cell_type": "code",
   "execution_count": 24,
   "id": "93d198bd",
   "metadata": {},
   "outputs": [
    {
     "name": "stdout",
     "output_type": "stream",
     "text": [
      "0.0\n"
     ]
    }
   ],
   "source": [
    "mat4 = np.array([\n",
    "    [1, 2, 3],\n",
    "    [0, 2, 2], \n",
    "    [1, 4, 5]\n",
    "])\n",
    "\n",
    "print(np.linalg.det(mat4))"
   ]
  },
  {
   "cell_type": "code",
   "execution_count": 17,
   "id": "da853678-7638-4588-a310-263c5775fd3b",
   "metadata": {},
   "outputs": [
    {
     "data": {
      "text/plain": [
       "array([2.5, 2.5, 2.5])"
      ]
     },
     "execution_count": 17,
     "metadata": {},
     "output_type": "execute_result"
    }
   ],
   "source": [
    "c = np.array([20, 10, 15])\n",
    "\n",
    "np.linalg.solve(mat4, c)"
   ]
  },
  {
   "cell_type": "code",
   "execution_count": 23,
   "id": "f7e3a07f-17f9-4038-a4b8-dfbec055103c",
   "metadata": {},
   "outputs": [
    {
     "name": "stdout",
     "output_type": "stream",
     "text": [
      "-1.3322676295501811e-15\n"
     ]
    }
   ],
   "source": [
    "A_partial = np.array([\n",
    "    [2, 1, 5],\n",
    "    [1, 2, 1]\n",
    "])\n",
    "\n",
    "A = np.vstack((A_partial, np.array([3, 3, 6])))\n",
    "\n",
    "print(np.linalg.det(A))"
   ]
  },
  {
   "cell_type": "code",
   "execution_count": null,
   "id": "c4d40d5e-a223-477e-b857-60fe37ed8d21",
   "metadata": {},
   "outputs": [],
   "source": []
  }
 ],
 "metadata": {
  "kernelspec": {
   "display_name": "Python 3 (ipykernel)",
   "language": "python",
   "name": "python3"
  },
  "language_info": {
   "codemirror_mode": {
    "name": "ipython",
    "version": 3
   },
   "file_extension": ".py",
   "mimetype": "text/x-python",
   "name": "python",
   "nbconvert_exporter": "python",
   "pygments_lexer": "ipython3",
   "version": "3.9.13"
  }
 },
 "nbformat": 4,
 "nbformat_minor": 5
}
