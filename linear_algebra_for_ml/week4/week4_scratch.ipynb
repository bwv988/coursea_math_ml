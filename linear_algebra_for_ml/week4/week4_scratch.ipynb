{
 "cells": [
  {
   "cell_type": "markdown",
   "id": "4ef1fa77-e5d1-4417-87ff-197ed70a3995",
   "metadata": {},
   "source": [
    "# Week 4 scratch\n",
    "\n",
    "RS25032023"
   ]
  },
  {
   "cell_type": "code",
   "execution_count": 32,
   "id": "bbe70f4a-48a2-4901-a3ff-630ebb7c966a",
   "metadata": {},
   "outputs": [],
   "source": [
    "import numpy as np\n",
    "import scipy as sc"
   ]
  },
  {
   "cell_type": "code",
   "execution_count": 2,
   "id": "3a194a3d-25c6-4c63-b50e-ce2f1042a212",
   "metadata": {},
   "outputs": [
    {
     "name": "stdout",
     "output_type": "stream",
     "text": [
      "0.2\n"
     ]
    }
   ],
   "source": [
    "A = np.array([\n",
    "    [0.4, -0.2], \n",
    "    [-0.2, 0.6]])\n",
    "\n",
    "print(np.linalg.det(A))"
   ]
  },
  {
   "cell_type": "code",
   "execution_count": null,
   "id": "e5e7aa13-9e4e-47e0-aa1a-2073bcb9ee3d",
   "metadata": {},
   "outputs": [],
   "source": [
    "A = np.array([\n",
    "    [0.4, -0.2], \n",
    "    [-0.2, 0.6]])\n",
    "\n",
    "print(np.linalg.det(A))"
   ]
  },
  {
   "cell_type": "markdown",
   "id": "9958d4b0-7925-49bc-bb7b-cb03e84a64cc",
   "metadata": {},
   "source": [
    "## Quiz 1"
   ]
  },
  {
   "cell_type": "code",
   "execution_count": 23,
   "id": "147e1957-11e1-47f0-bf3e-811c1cde8737",
   "metadata": {},
   "outputs": [
    {
     "name": "stdout",
     "output_type": "stream",
     "text": [
      "-2.0\n"
     ]
    }
   ],
   "source": [
    "# 1.  \n",
    "\n",
    "W = np.array([\n",
    "    [1, 2, -1], \n",
    "    [1, 0, 1], \n",
    "    [0, 1, 0]])\n",
    "print(np.linalg.det(W))\n"
   ]
  },
  {
   "cell_type": "code",
   "execution_count": 25,
   "id": "4af6cff1-f491-4a76-b372-494993ff8476",
   "metadata": {},
   "outputs": [
    {
     "name": "stdout",
     "output_type": "stream",
     "text": [
      "[[ 0.5  0.5 -1. ]\n",
      " [-0.  -0.   1. ]\n",
      " [-0.5  0.5  1. ]]\n"
     ]
    }
   ],
   "source": [
    "# 2.\n",
    "\n",
    "print(np.linalg.inv(W))"
   ]
  },
  {
   "cell_type": "code",
   "execution_count": 26,
   "id": "7644da85-cd85-4768-8ae0-9ff6586b95be",
   "metadata": {},
   "outputs": [
    {
     "name": "stdout",
     "output_type": "stream",
     "text": [
      "[[1. 0. 0.]\n",
      " [0. 1. 0.]\n",
      " [0. 0. 1.]]\n"
     ]
    }
   ],
   "source": [
    "# 3.\n",
    "\n",
    "print(np.linalg.inv(np.eye(3)))"
   ]
  },
  {
   "cell_type": "markdown",
   "id": "9408d93e-00cd-45fa-b894-cba944c76061",
   "metadata": {},
   "source": [
    "4. Non-singular"
   ]
  },
  {
   "cell_type": "code",
   "execution_count": 14,
   "id": "6429c169-c181-455b-b69b-267a5c800b94",
   "metadata": {},
   "outputs": [
    {
     "name": "stdout",
     "output_type": "stream",
     "text": [
      "[ 5 -2  0]\n"
     ]
    }
   ],
   "source": [
    "b = np.array([5, -2, 0])\n",
    "print(b)"
   ]
  },
  {
   "cell_type": "code",
   "execution_count": 15,
   "id": "c9e847af-d855-4c1e-af98-347a6eedf54c",
   "metadata": {},
   "outputs": [
    {
     "name": "stdout",
     "output_type": "stream",
     "text": [
      "[ 1  5 -2]\n"
     ]
    }
   ],
   "source": [
    "y = W @ b\n",
    "print(y)"
   ]
  },
  {
   "cell_type": "code",
   "execution_count": 17,
   "id": "333780bb-4d1f-48b5-b951-80a9700ab0f4",
   "metadata": {},
   "outputs": [
    {
     "name": "stdout",
     "output_type": "stream",
     "text": [
      "8\n"
     ]
    }
   ],
   "source": [
    "print(np.array([3, 1, -7]) @ np.array([2, 2, 0]))"
   ]
  },
  {
   "cell_type": "code",
   "execution_count": 18,
   "id": "0c02a31e-ccce-4673-83be-dba0e29ef210",
   "metadata": {},
   "outputs": [
    {
     "name": "stdout",
     "output_type": "stream",
     "text": [
      "[[ 33  -1 -20]\n",
      " [  9  -5   4]\n",
      " [ -6   2   0]]\n"
     ]
    }
   ],
   "source": [
    "A = np.array([\n",
    "    [5, 2, 3], \n",
    "    [-1, -3, 2], \n",
    "    [0, 1, -1]])\n",
    "B = np.array([\n",
    "    [1, 0, -4], \n",
    "    [2, 1, 0], \n",
    "    [8, -1, 0]])\n",
    "print(A @ B)"
   ]
  },
  {
   "cell_type": "code",
   "execution_count": 21,
   "id": "64f572ff-2d9a-47f3-a6f6-339f5ea75355",
   "metadata": {},
   "outputs": [
    {
     "name": "stdout",
     "output_type": "stream",
     "text": [
      "1.782816318816259e-13\n"
     ]
    }
   ],
   "source": [
    "print(np.linalg.det(A @ B))"
   ]
  },
  {
   "cell_type": "markdown",
   "id": "ccbe3a75-8862-48c1-9445-f0bfe017b17d",
   "metadata": {},
   "source": [
    "## Eigenvectors & -values"
   ]
  },
  {
   "cell_type": "code",
   "execution_count": 35,
   "id": "daeadc9a-f2ad-4368-b071-c4031b9f8e1c",
   "metadata": {},
   "outputs": [
    {
     "name": "stdout",
     "output_type": "stream",
     "text": [
      "[11.+0.j  1.+0.j]\n",
      "[[ 0.89442719 -0.4472136 ]\n",
      " [ 0.4472136   0.89442719]]\n"
     ]
    }
   ],
   "source": [
    "w, v = sc.linalg.eig(np.array([[9, 4], [4, 3]]))\n",
    "print(w)\n",
    "print(v)"
   ]
  },
  {
   "cell_type": "code",
   "execution_count": 36,
   "id": "74c632fa-ea98-4b6d-955a-0f9ef2123913",
   "metadata": {},
   "outputs": [
    {
     "name": "stdout",
     "output_type": "stream",
     "text": [
      "[2.+0.j 3.+0.j]\n",
      "[[1.         0.70710678]\n",
      " [0.         0.70710678]]\n"
     ]
    }
   ],
   "source": [
    "w, v = sc.linalg.eig(np.array([[2, 1], [0, 3]]))\n",
    "print(w)\n",
    "print(v)"
   ]
  },
  {
   "cell_type": "markdown",
   "id": "7ec1677b-40ff-4e04-80c4-fadc172646c7",
   "metadata": {},
   "source": [
    "## Quiz 2"
   ]
  },
  {
   "cell_type": "markdown",
   "id": "c9d1dc95-72b9-49a5-ba81-60fe6121dcb6",
   "metadata": {},
   "source": [
    "1. and 2. Via Wolfram Alpha: eigenvectors and eigenvalues of [[2, 1], [-3, 6]]\n",
    "\n",
    "det([[2, 1], [-3, 6]] - l*IdentityMatrix[2]) = 0"
   ]
  },
  {
   "cell_type": "code",
   "execution_count": 39,
   "id": "c461a3e7-625b-4b2f-a498-ba58d2dde76c",
   "metadata": {},
   "outputs": [
    {
     "data": {
      "text/plain": [
       "(array([1.+0.j, 1.+0.j, 1.+0.j]),\n",
       " array([[1., 0., 0.],\n",
       "        [0., 1., 0.],\n",
       "        [0., 0., 1.]]))"
      ]
     },
     "execution_count": 39,
     "metadata": {},
     "output_type": "execute_result"
    }
   ],
   "source": [
    "# 3.\n",
    "sc.linalg.eig(np.eye(3))\n"
   ]
  },
  {
   "cell_type": "markdown",
   "id": "5820fd16-3954-47c0-baa3-f96b7c2aa63a",
   "metadata": {},
   "source": [
    "\n",
    "4. via Wolfram Alpha: eigenvectors and eigenvalues of [[1, 2], [0, 4]]"
   ]
  },
  {
   "cell_type": "markdown",
   "id": "535f9bb1-37ce-4006-b7db-884f86f44791",
   "metadata": {},
   "source": [
    "7. via Wolfram Alpha: eigenvectors and eigenvalues of [[2, 0, 0], [1, 2, 1], [-1, 0, 1]]"
   ]
  },
  {
   "cell_type": "markdown",
   "id": "a5270cb7-ff48-4b20-89d5-53d4f80046ea",
   "metadata": {},
   "source": [
    "8. via Wolfram Alpha: det([[3, 1, -2], [4, 0, 1], [2, 1, -1]] - l*IdentityMatrix[3]) = 0"
   ]
  },
  {
   "cell_type": "markdown",
   "id": "9708a268-114d-42b8-be95-5f4b00a678c1",
   "metadata": {},
   "source": [
    "9. via Wolfram Alpha: eigenvectors and eigenvalues of [[1, 2], [0, 4]]^-1"
   ]
  },
  {
   "cell_type": "code",
   "execution_count": null,
   "id": "c0c12582-ed4c-4fc8-8da6-762917b2eafb",
   "metadata": {},
   "outputs": [],
   "source": []
  }
 ],
 "metadata": {
  "kernelspec": {
   "display_name": "Python 3 (ipykernel)",
   "language": "python",
   "name": "python3"
  },
  "language_info": {
   "codemirror_mode": {
    "name": "ipython",
    "version": 3
   },
   "file_extension": ".py",
   "mimetype": "text/x-python",
   "name": "python",
   "nbconvert_exporter": "python",
   "pygments_lexer": "ipython3",
   "version": "3.9.16"
  }
 },
 "nbformat": 4,
 "nbformat_minor": 5
}
