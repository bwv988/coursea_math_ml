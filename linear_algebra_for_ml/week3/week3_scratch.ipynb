{
 "cells": [
  {
   "cell_type": "markdown",
   "id": "29886e02-b698-4bd2-9af9-94aff14fec22",
   "metadata": {},
   "source": [
    "# Week 3 - Scratch and Quiz\n",
    "\n",
    "RS25032023"
   ]
  },
  {
   "cell_type": "code",
   "execution_count": 1,
   "id": "3b9b44ff-ebd5-431c-8967-d82ba14ae768",
   "metadata": {},
   "outputs": [],
   "source": [
    "import numpy as np"
   ]
  },
  {
   "cell_type": "markdown",
   "id": "8ffd3570-a28d-4542-9aec-56a7998c1f35",
   "metadata": {},
   "source": [
    "## Scratch"
   ]
  },
  {
   "cell_type": "code",
   "execution_count": 3,
   "id": "fb4572c0-20e1-485d-9f27-d25c0bba3015",
   "metadata": {},
   "outputs": [
    {
     "name": "stdout",
     "output_type": "stream",
     "text": [
      "[[5 2]\n",
      " [1 2]]\n"
     ]
    }
   ],
   "source": [
    "A = np.array([\n",
    "    [5, 2], \n",
    "    [1, 2]])\n",
    "print(A)"
   ]
  },
  {
   "cell_type": "code",
   "execution_count": 4,
   "id": "63e7b102-7d37-43e1-8f35-716fd9054456",
   "metadata": {},
   "outputs": [
    {
     "name": "stdout",
     "output_type": "stream",
     "text": [
      "[[ 0.25  -0.25 ]\n",
      " [-0.125  0.625]]\n"
     ]
    }
   ],
   "source": [
    "print(np.linalg.inv(A))"
   ]
  },
  {
   "cell_type": "code",
   "execution_count": 6,
   "id": "723e5d74-4b7c-4d4f-b35f-587d65c81aee",
   "metadata": {},
   "outputs": [],
   "source": [
    "# This won't work as the matrix is singular.\n",
    "#A = np.array([\n",
    "#    [1, 1], \n",
    "#    [2, 2]])\n",
    "#print(np.linalg.inv(A))"
   ]
  },
  {
   "cell_type": "markdown",
   "id": "19d2ce1c-edda-49f0-93db-67e67367f132",
   "metadata": {},
   "source": [
    "## Quiz"
   ]
  },
  {
   "cell_type": "code",
   "execution_count": 10,
   "id": "03b20916-e3c0-4254-9b43-2eb07cb9f6d3",
   "metadata": {},
   "outputs": [],
   "source": [
    "# 1.\n",
    "u = np.array([1, 0, 7])\n",
    "v = np.array([0, -1, 2])"
   ]
  },
  {
   "cell_type": "markdown",
   "id": "cf6cc5d6-cd85-4712-abc9-7b3ae16735ef",
   "metadata": {},
   "source": [
    "$d = \\sqrt{<u - v, u - v>}$"
   ]
  },
  {
   "cell_type": "code",
   "execution_count": 12,
   "id": "6ca14de8-a5cc-42b1-9e4d-6e17281563fe",
   "metadata": {},
   "outputs": [
    {
     "name": "stdout",
     "output_type": "stream",
     "text": [
      "27\n"
     ]
    }
   ],
   "source": [
    "print((u-v) @ (u - v))"
   ]
  },
  {
   "cell_type": "code",
   "execution_count": 18,
   "id": "87017448-8d83-46ca-baac-7a8e455d8463",
   "metadata": {},
   "outputs": [
    {
     "name": "stdout",
     "output_type": "stream",
     "text": [
      "[2 0 0]\n"
     ]
    }
   ],
   "source": [
    "# 2.\n",
    "u = np.array([1, 0, -3])\n",
    "v = np.array([-1, 0, -3])\n",
    "\n",
    "print(u - v)"
   ]
  },
  {
   "cell_type": "code",
   "execution_count": 17,
   "id": "d1c55d9d-01bd-40f0-aec7-57157ed8cb2f",
   "metadata": {},
   "outputs": [
    {
     "name": "stdout",
     "output_type": "stream",
     "text": [
      "6.0\n"
     ]
    }
   ],
   "source": [
    "print(np.linalg.norm(u+v))"
   ]
  },
  {
   "cell_type": "code",
   "execution_count": 27,
   "id": "b5c8c61c-8f42-4ce1-a01e-d5a14edd29d1",
   "metadata": {},
   "outputs": [
    {
     "name": "stdout",
     "output_type": "stream",
     "text": [
      "25\n"
     ]
    }
   ],
   "source": [
    "u = np.array([-1, 5, 2])\n",
    "v = np.array([-3, 6, -4])\n",
    "print(u@v)"
   ]
  },
  {
   "cell_type": "code",
   "execution_count": 28,
   "id": "5a3c662c-1079-4848-a6d6-7076cd54d8b2",
   "metadata": {},
   "outputs": [
    {
     "name": "stdout",
     "output_type": "stream",
     "text": [
      "[[10  2]\n",
      " [ 0 -3]]\n"
     ]
    }
   ],
   "source": [
    "A = np.array([\n",
    "    [2, -1], \n",
    "    [3, -3]])\n",
    "B = np.array([\n",
    "    [5, -2], \n",
    "    [0, 1]])\n",
    "print(A*B)\n"
   ]
  },
  {
   "cell_type": "code",
   "execution_count": null,
   "id": "84e774d5-fb03-419d-a02f-f75f279a8db9",
   "metadata": {},
   "outputs": [],
   "source": []
  }
 ],
 "metadata": {
  "kernelspec": {
   "display_name": "Python 3 (ipykernel)",
   "language": "python",
   "name": "python3"
  },
  "language_info": {
   "codemirror_mode": {
    "name": "ipython",
    "version": 3
   },
   "file_extension": ".py",
   "mimetype": "text/x-python",
   "name": "python",
   "nbconvert_exporter": "python",
   "pygments_lexer": "ipython3",
   "version": "3.9.16"
  }
 },
 "nbformat": 4,
 "nbformat_minor": 5
}
