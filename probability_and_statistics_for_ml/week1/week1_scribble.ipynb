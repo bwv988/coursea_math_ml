{
 "cells": [
  {
   "cell_type": "markdown",
   "id": "00a91d94-cc38-4538-ab90-47059f41f810",
   "metadata": {},
   "source": [
    "# Week 1 Scratch"
   ]
  },
  {
   "cell_type": "markdown",
   "id": "136f6399-a582-45c2-a770-16e272d57cd8",
   "metadata": {},
   "source": [
    "## Bayes"
   ]
  },
  {
   "cell_type": "markdown",
   "id": "707aed30-9e62-430d-9088-0f6269866e00",
   "metadata": {},
   "source": [
    "<img src=\"bayes.png\"></img>"
   ]
  },
  {
   "cell_type": "markdown",
   "id": "bb2f51f6-f9d1-435e-8fd2-8692dd0a3c56",
   "metadata": {},
   "source": [
    "```\n",
    "A: sick\n",
    "B: diagnosed sick\n",
    "\n",
    "Want: P(A | B)\n",
    "\n",
    "- P(A) = prevalence = 0.01\n",
    "- P(¬A) = 1 - P(A) = 0.99\n",
    "- P(B | A) = sensitivity = 0.95\n",
    "- P(¬B | ¬A) = specificity = 0.90\n",
    "- P(B | ¬A) = 1 - specificity = 0.10\n",
    "\n",
    "```"
   ]
  },
  {
   "cell_type": "code",
   "execution_count": 11,
   "id": "f7c448a2-758a-4487-a860-779407e79dc9",
   "metadata": {
    "tags": []
   },
   "outputs": [
    {
     "name": "stdout",
     "output_type": "stream",
     "text": [
      "p=0.08755760368663594\n"
     ]
    }
   ],
   "source": [
    "p = (0.01 * 0.95) / ((0.01 * 0.95) + (0.99 * 0.10))\n",
    "\n",
    "print(f\"{p=}\")"
   ]
  },
  {
   "cell_type": "markdown",
   "id": "70e1e7bc-1217-4ac3-8203-26444f7e5d5f",
   "metadata": {},
   "source": [
    "## Coin flipping"
   ]
  },
  {
   "cell_type": "code",
   "execution_count": 20,
   "id": "51a5861c-fdab-44cd-b211-4e0092e57520",
   "metadata": {
    "tags": []
   },
   "outputs": [],
   "source": [
    "import math\n",
    "\n",
    "def nCr(n,r):\n",
    "    f = math.factorial\n",
    "    return f(n) // f(r) // f(n-r)\n",
    "\n",
    "def binomial_pmf(n, x, p):\n",
    "    return(nCr(n, x) * pow(p, x) * pow((1 - p), n - x))\n",
    "\n",
    "p = 0.5\n",
    "\n",
    "n = 10\n",
    "\n",
    "x = [0, 1]\n",
    "\n"
   ]
  },
  {
   "cell_type": "code",
   "execution_count": 22,
   "id": "6cbab8d3-fa13-454d-9274-4a818d885016",
   "metadata": {
    "tags": []
   },
   "outputs": [
    {
     "data": {
      "text/plain": [
       "0.9892578125"
      ]
     },
     "execution_count": 22,
     "metadata": {},
     "output_type": "execute_result"
    }
   ],
   "source": [
    "1 - (binomial_pmf(10, 0, 0.5) + binomial_pmf(10, 1, 0.5))"
   ]
  },
  {
   "cell_type": "code",
   "execution_count": 27,
   "id": "e0484eae-718d-429e-b35f-3d47a509f377",
   "metadata": {
    "tags": []
   },
   "outputs": [
    {
     "data": {
      "text/plain": [
       "0.9892578125"
      ]
     },
     "execution_count": 27,
     "metadata": {},
     "output_type": "execute_result"
    }
   ],
   "source": [
    "(pow(2, 10) -  11) / pow(2, 10)"
   ]
  },
  {
   "cell_type": "code",
   "execution_count": 29,
   "id": "5773f34a-c42f-4062-8b4b-bd27ed07d1bc",
   "metadata": {
    "tags": []
   },
   "outputs": [
    {
     "data": {
      "text/plain": [
       "array([3.27107766, 4.50663616, 3.22406106, 2.37870126, 3.89641613,\n",
       "       4.54977956, 2.33921173, 4.56057332, 3.2296717 , 3.17438478,\n",
       "       2.1994643 , 4.48646377, 2.21731124, 3.14971288, 4.25539479,\n",
       "       3.03323493, 4.53006831, 2.64183931, 4.83509781, 4.87899918])"
      ]
     },
     "execution_count": 29,
     "metadata": {},
     "output_type": "execute_result"
    }
   ],
   "source": [
    "import numpy as np\n",
    "\n",
    "np.random.uniform(2, 5, 20)"
   ]
  },
  {
   "cell_type": "code",
   "execution_count": 30,
   "id": "19bb51a0-2097-46b9-b630-50db4768d667",
   "metadata": {
    "tags": []
   },
   "outputs": [
    {
     "data": {
      "text/plain": [
       "\u001b[0;31mCall signature:\u001b[0m  \u001b[0mscipy\u001b[0m\u001b[0;34m.\u001b[0m\u001b[0mspecial\u001b[0m\u001b[0;34m.\u001b[0m\u001b[0merfinv\u001b[0m\u001b[0;34m(\u001b[0m\u001b[0;34m*\u001b[0m\u001b[0margs\u001b[0m\u001b[0;34m,\u001b[0m \u001b[0;34m**\u001b[0m\u001b[0mkwargs\u001b[0m\u001b[0;34m)\u001b[0m\u001b[0;34m\u001b[0m\u001b[0;34m\u001b[0m\u001b[0m\n",
       "\u001b[0;31mType:\u001b[0m            ufunc\n",
       "\u001b[0;31mString form:\u001b[0m     <ufunc 'erfinv'>\n",
       "\u001b[0;31mFile:\u001b[0m            ~/opt/anaconda3/lib/python3.9/site-packages/numpy/__init__.py\n",
       "\u001b[0;31mDocstring:\u001b[0m      \n",
       "erfinv(x, /, out=None, *, where=True, casting='same_kind', order='K', dtype=None, subok=True[, signature, extobj])\n",
       "\n",
       "erfinv(y, out=None)\n",
       "\n",
       "Inverse of the error function.\n",
       "\n",
       "Computes the inverse of the error function.\n",
       "\n",
       "In the complex domain, there is no unique complex number w satisfying\n",
       "erf(w)=z. This indicates a true inverse function would be multivalued.\n",
       "When the domain restricts to the real, -1 < x < 1, there is a unique real\n",
       "number satisfying erf(erfinv(x)) = x.\n",
       "\n",
       "Parameters\n",
       "----------\n",
       "y : ndarray\n",
       "    Argument at which to evaluate. Domain: [-1, 1]\n",
       "out : ndarray, optional\n",
       "    Optional output array for the function values\n",
       "\n",
       "Returns\n",
       "-------\n",
       "erfinv : scalar or ndarray\n",
       "    The inverse of erf of y, element-wise\n",
       "\n",
       "See Also\n",
       "--------\n",
       "erf : Error function of a complex argument\n",
       "erfc : Complementary error function, ``1 - erf(x)``\n",
       "erfcinv : Inverse of the complementary error function\n",
       "\n",
       "Examples\n",
       "--------\n",
       ">>> import numpy as np\n",
       ">>> import matplotlib.pyplot as plt\n",
       ">>> from scipy.special import erfinv, erf\n",
       "\n",
       ">>> erfinv(0.5)\n",
       "0.4769362762044699\n",
       "\n",
       ">>> y = np.linspace(-1.0, 1.0, num=9)\n",
       ">>> x = erfinv(y)\n",
       ">>> x\n",
       "array([       -inf, -0.81341985, -0.47693628, -0.22531206,  0.        ,\n",
       "        0.22531206,  0.47693628,  0.81341985,         inf])\n",
       "\n",
       "Verify that ``erf(erfinv(y))`` is ``y``.\n",
       "\n",
       ">>> erf(x)\n",
       "array([-1.  , -0.75, -0.5 , -0.25,  0.  ,  0.25,  0.5 ,  0.75,  1.  ])\n",
       "\n",
       "Plot the function:\n",
       "\n",
       ">>> y = np.linspace(-1, 1, 200)\n",
       ">>> fig, ax = plt.subplots()\n",
       ">>> ax.plot(y, erfinv(y))\n",
       ">>> ax.grid(True)\n",
       ">>> ax.set_xlabel('y')\n",
       ">>> ax.set_title('erfinv(y)')\n",
       ">>> plt.show()\n",
       "\u001b[0;31mClass docstring:\u001b[0m\n",
       "Functions that operate element by element on whole arrays.\n",
       "\n",
       "To see the documentation for a specific ufunc, use `info`.  For\n",
       "example, ``np.info(np.sin)``.  Because ufuncs are written in C\n",
       "(for speed) and linked into Python with NumPy's ufunc facility,\n",
       "Python's help() function finds this page whenever help() is called\n",
       "on a ufunc.\n",
       "\n",
       "A detailed explanation of ufuncs can be found in the docs for :ref:`ufuncs`.\n",
       "\n",
       "**Calling ufuncs:** ``op(*x[, out], where=True, **kwargs)``\n",
       "\n",
       "Apply `op` to the arguments `*x` elementwise, broadcasting the arguments.\n",
       "\n",
       "The broadcasting rules are:\n",
       "\n",
       "* Dimensions of length 1 may be prepended to either array.\n",
       "* Arrays may be repeated along dimensions of length 1.\n",
       "\n",
       "Parameters\n",
       "----------\n",
       "*x : array_like\n",
       "    Input arrays.\n",
       "out : ndarray, None, or tuple of ndarray and None, optional\n",
       "    Alternate array object(s) in which to put the result; if provided, it\n",
       "    must have a shape that the inputs broadcast to. A tuple of arrays\n",
       "    (possible only as a keyword argument) must have length equal to the\n",
       "    number of outputs; use None for uninitialized outputs to be\n",
       "    allocated by the ufunc.\n",
       "where : array_like, optional\n",
       "    This condition is broadcast over the input. At locations where the\n",
       "    condition is True, the `out` array will be set to the ufunc result.\n",
       "    Elsewhere, the `out` array will retain its original value.\n",
       "    Note that if an uninitialized `out` array is created via the default\n",
       "    ``out=None``, locations within it where the condition is False will\n",
       "    remain uninitialized.\n",
       "**kwargs\n",
       "    For other keyword-only arguments, see the :ref:`ufunc docs <ufuncs.kwargs>`.\n",
       "\n",
       "Returns\n",
       "-------\n",
       "r : ndarray or tuple of ndarray\n",
       "    `r` will have the shape that the arrays in `x` broadcast to; if `out` is\n",
       "    provided, it will be returned. If not, `r` will be allocated and\n",
       "    may contain uninitialized values. If the function has more than one\n",
       "    output, then the result will be a tuple of arrays."
      ]
     },
     "metadata": {},
     "output_type": "display_data"
    }
   ],
   "source": [
    "??scipy.special.erfinv"
   ]
  },
  {
   "cell_type": "code",
   "execution_count": 33,
   "id": "b22a030d-659a-4891-8129-ebd44bd0a671",
   "metadata": {
    "tags": []
   },
   "outputs": [
    {
     "data": {
      "text/plain": [
       "1.4142135623730951"
      ]
     },
     "execution_count": 33,
     "metadata": {},
     "output_type": "execute_result"
    }
   ],
   "source": [
    "np.sqrt(2)"
   ]
  },
  {
   "cell_type": "code",
   "execution_count": 38,
   "id": "08a4a4aa-f4bc-4fa3-88f9-ce8b918ae8aa",
   "metadata": {
    "tags": []
   },
   "outputs": [
    {
     "data": {
      "text/plain": [
       "False"
      ]
     },
     "execution_count": 38,
     "metadata": {},
     "output_type": "execute_result"
    }
   ],
   "source": [
    "a = 3\n",
    "b = 4\n",
    "c = 3.9\n",
    "a <= b <= c\n"
   ]
  },
  {
   "cell_type": "code",
   "execution_count": 40,
   "id": "a069acd0-d4de-4a26-85a8-8451e5808a4d",
   "metadata": {
    "tags": []
   },
   "outputs": [
    {
     "data": {
      "text/plain": [
       "8"
      ]
     },
     "execution_count": 40,
     "metadata": {},
     "output_type": "execute_result"
    }
   ],
   "source": [
    "2**3"
   ]
  },
  {
   "cell_type": "code",
   "execution_count": 41,
   "id": "2c259f51-a835-4c97-96db-402945ebd617",
   "metadata": {
    "tags": []
   },
   "outputs": [
    {
     "data": {
      "text/plain": [
       "\u001b[0;31mSignature:\u001b[0m \u001b[0mcomb\u001b[0m\u001b[0;34m(\u001b[0m\u001b[0mN\u001b[0m\u001b[0;34m,\u001b[0m \u001b[0mk\u001b[0m\u001b[0;34m,\u001b[0m \u001b[0mexact\u001b[0m\u001b[0;34m=\u001b[0m\u001b[0;32mFalse\u001b[0m\u001b[0;34m,\u001b[0m \u001b[0mrepetition\u001b[0m\u001b[0;34m=\u001b[0m\u001b[0;32mFalse\u001b[0m\u001b[0;34m,\u001b[0m \u001b[0mlegacy\u001b[0m\u001b[0;34m=\u001b[0m\u001b[0;32mTrue\u001b[0m\u001b[0;34m)\u001b[0m\u001b[0;34m\u001b[0m\u001b[0;34m\u001b[0m\u001b[0m\n",
       "\u001b[0;31mSource:\u001b[0m   \n",
       "\u001b[0;32mdef\u001b[0m \u001b[0mcomb\u001b[0m\u001b[0;34m(\u001b[0m\u001b[0mN\u001b[0m\u001b[0;34m,\u001b[0m \u001b[0mk\u001b[0m\u001b[0;34m,\u001b[0m \u001b[0mexact\u001b[0m\u001b[0;34m=\u001b[0m\u001b[0;32mFalse\u001b[0m\u001b[0;34m,\u001b[0m \u001b[0mrepetition\u001b[0m\u001b[0;34m=\u001b[0m\u001b[0;32mFalse\u001b[0m\u001b[0;34m,\u001b[0m \u001b[0mlegacy\u001b[0m\u001b[0;34m=\u001b[0m\u001b[0;32mTrue\u001b[0m\u001b[0;34m)\u001b[0m\u001b[0;34m:\u001b[0m\u001b[0;34m\u001b[0m\n",
       "\u001b[0;34m\u001b[0m    \u001b[0;34m\"\"\"The number of combinations of N things taken k at a time.\u001b[0m\n",
       "\u001b[0;34m\u001b[0m\n",
       "\u001b[0;34m    This is often expressed as \"N choose k\".\u001b[0m\n",
       "\u001b[0;34m\u001b[0m\n",
       "\u001b[0;34m    Parameters\u001b[0m\n",
       "\u001b[0;34m    ----------\u001b[0m\n",
       "\u001b[0;34m    N : int, ndarray\u001b[0m\n",
       "\u001b[0;34m        Number of things.\u001b[0m\n",
       "\u001b[0;34m    k : int, ndarray\u001b[0m\n",
       "\u001b[0;34m        Number of elements taken.\u001b[0m\n",
       "\u001b[0;34m    exact : bool, optional\u001b[0m\n",
       "\u001b[0;34m        For integers, if `exact` is False, then floating point precision is\u001b[0m\n",
       "\u001b[0;34m        used, otherwise the result is computed exactly. For non-integers, if\u001b[0m\n",
       "\u001b[0;34m        `exact` is True, the inputs are currently cast to integers, though\u001b[0m\n",
       "\u001b[0;34m        this behavior is deprecated (see below).\u001b[0m\n",
       "\u001b[0;34m    repetition : bool, optional\u001b[0m\n",
       "\u001b[0;34m        If `repetition` is True, then the number of combinations with\u001b[0m\n",
       "\u001b[0;34m        repetition is computed.\u001b[0m\n",
       "\u001b[0;34m    legacy : bool, optional\u001b[0m\n",
       "\u001b[0;34m        If `legacy` is True and `exact` is True, then non-integral arguments\u001b[0m\n",
       "\u001b[0;34m        are cast to ints; if `legacy` is False, the result for non-integral\u001b[0m\n",
       "\u001b[0;34m        arguments is unaffected by the value of `exact`.\u001b[0m\n",
       "\u001b[0;34m\u001b[0m\n",
       "\u001b[0;34m        .. deprecated:: 1.9.0\u001b[0m\n",
       "\u001b[0;34m            Non-integer arguments are currently being cast to integers when\u001b[0m\n",
       "\u001b[0;34m            `exact=True`. This behaviour is deprecated and the default will\u001b[0m\n",
       "\u001b[0;34m            change to avoid the cast in SciPy 1.11.0. To opt into the future\u001b[0m\n",
       "\u001b[0;34m            behavior set `legacy=False`. If you want to keep the\u001b[0m\n",
       "\u001b[0;34m            argument-casting but silence this warning, cast your inputs\u001b[0m\n",
       "\u001b[0;34m            directly, e.g. ``comb(int(your_N), int(your_k), exact=True)``.\u001b[0m\n",
       "\u001b[0;34m\u001b[0m\n",
       "\u001b[0;34m    Returns\u001b[0m\n",
       "\u001b[0;34m    -------\u001b[0m\n",
       "\u001b[0;34m    val : int, float, ndarray\u001b[0m\n",
       "\u001b[0;34m        The total number of combinations.\u001b[0m\n",
       "\u001b[0;34m\u001b[0m\n",
       "\u001b[0;34m    See Also\u001b[0m\n",
       "\u001b[0;34m    --------\u001b[0m\n",
       "\u001b[0;34m    binom : Binomial coefficient considered as a function of two real\u001b[0m\n",
       "\u001b[0;34m            variables.\u001b[0m\n",
       "\u001b[0;34m\u001b[0m\n",
       "\u001b[0;34m    Notes\u001b[0m\n",
       "\u001b[0;34m    -----\u001b[0m\n",
       "\u001b[0;34m    - Array arguments accepted only for exact=False case.\u001b[0m\n",
       "\u001b[0;34m    - If N < 0, or k < 0, then 0 is returned.\u001b[0m\n",
       "\u001b[0;34m    - If k > N and repetition=False, then 0 is returned.\u001b[0m\n",
       "\u001b[0;34m\u001b[0m\n",
       "\u001b[0;34m    Examples\u001b[0m\n",
       "\u001b[0;34m    --------\u001b[0m\n",
       "\u001b[0;34m    >>> import numpy as np\u001b[0m\n",
       "\u001b[0;34m    >>> from scipy.special import comb\u001b[0m\n",
       "\u001b[0;34m    >>> k = np.array([3, 4])\u001b[0m\n",
       "\u001b[0;34m    >>> n = np.array([10, 10])\u001b[0m\n",
       "\u001b[0;34m    >>> comb(n, k, exact=False)\u001b[0m\n",
       "\u001b[0;34m    array([ 120.,  210.])\u001b[0m\n",
       "\u001b[0;34m    >>> comb(10, 3, exact=True)\u001b[0m\n",
       "\u001b[0;34m    120\u001b[0m\n",
       "\u001b[0;34m    >>> comb(10, 3, exact=True, repetition=True)\u001b[0m\n",
       "\u001b[0;34m    220\u001b[0m\n",
       "\u001b[0;34m\u001b[0m\n",
       "\u001b[0;34m    \"\"\"\u001b[0m\u001b[0;34m\u001b[0m\n",
       "\u001b[0;34m\u001b[0m    \u001b[0;32mif\u001b[0m \u001b[0mrepetition\u001b[0m\u001b[0;34m:\u001b[0m\u001b[0;34m\u001b[0m\n",
       "\u001b[0;34m\u001b[0m        \u001b[0;32mreturn\u001b[0m \u001b[0mcomb\u001b[0m\u001b[0;34m(\u001b[0m\u001b[0mN\u001b[0m \u001b[0;34m+\u001b[0m \u001b[0mk\u001b[0m \u001b[0;34m-\u001b[0m \u001b[0;36m1\u001b[0m\u001b[0;34m,\u001b[0m \u001b[0mk\u001b[0m\u001b[0;34m,\u001b[0m \u001b[0mexact\u001b[0m\u001b[0;34m,\u001b[0m \u001b[0mlegacy\u001b[0m\u001b[0;34m=\u001b[0m\u001b[0mlegacy\u001b[0m\u001b[0;34m)\u001b[0m\u001b[0;34m\u001b[0m\n",
       "\u001b[0;34m\u001b[0m    \u001b[0;32mif\u001b[0m \u001b[0mexact\u001b[0m\u001b[0;34m:\u001b[0m\u001b[0;34m\u001b[0m\n",
       "\u001b[0;34m\u001b[0m        \u001b[0;32mif\u001b[0m \u001b[0mint\u001b[0m\u001b[0;34m(\u001b[0m\u001b[0mN\u001b[0m\u001b[0;34m)\u001b[0m \u001b[0;34m!=\u001b[0m \u001b[0mN\u001b[0m \u001b[0;32mor\u001b[0m \u001b[0mint\u001b[0m\u001b[0;34m(\u001b[0m\u001b[0mk\u001b[0m\u001b[0;34m)\u001b[0m \u001b[0;34m!=\u001b[0m \u001b[0mk\u001b[0m\u001b[0;34m:\u001b[0m\u001b[0;34m\u001b[0m\n",
       "\u001b[0;34m\u001b[0m            \u001b[0;32mif\u001b[0m \u001b[0mlegacy\u001b[0m\u001b[0;34m:\u001b[0m\u001b[0;34m\u001b[0m\n",
       "\u001b[0;34m\u001b[0m                \u001b[0mwarnings\u001b[0m\u001b[0;34m.\u001b[0m\u001b[0mwarn\u001b[0m\u001b[0;34m(\u001b[0m\u001b[0;34m\u001b[0m\n",
       "\u001b[0;34m\u001b[0m                    \u001b[0;34m\"Non-integer arguments are currently being cast to \"\u001b[0m\u001b[0;34m\u001b[0m\n",
       "\u001b[0;34m\u001b[0m                    \u001b[0;34m\"integers when exact=True. This behaviour is \"\u001b[0m\u001b[0;34m\u001b[0m\n",
       "\u001b[0;34m\u001b[0m                    \u001b[0;34m\"deprecated and the default will change to avoid the cast \"\u001b[0m\u001b[0;34m\u001b[0m\n",
       "\u001b[0;34m\u001b[0m                    \u001b[0;34m\"in SciPy 1.11.0. To opt into the future behavior set \"\u001b[0m\u001b[0;34m\u001b[0m\n",
       "\u001b[0;34m\u001b[0m                    \u001b[0;34m\"legacy=False. If you want to keep the argument-casting \"\u001b[0m\u001b[0;34m\u001b[0m\n",
       "\u001b[0;34m\u001b[0m                    \u001b[0;34m\"but silence this warning, cast your inputs directly, \"\u001b[0m\u001b[0;34m\u001b[0m\n",
       "\u001b[0;34m\u001b[0m                    \u001b[0;34m\"e.g. comb(int(your_N), int(your_k), exact=True).\"\u001b[0m\u001b[0;34m,\u001b[0m\u001b[0;34m\u001b[0m\n",
       "\u001b[0;34m\u001b[0m                    \u001b[0mDeprecationWarning\u001b[0m\u001b[0;34m,\u001b[0m \u001b[0mstacklevel\u001b[0m\u001b[0;34m=\u001b[0m\u001b[0;36m2\u001b[0m\u001b[0;34m\u001b[0m\n",
       "\u001b[0;34m\u001b[0m                \u001b[0;34m)\u001b[0m\u001b[0;34m\u001b[0m\n",
       "\u001b[0;34m\u001b[0m            \u001b[0;32melse\u001b[0m\u001b[0;34m:\u001b[0m\u001b[0;34m\u001b[0m\n",
       "\u001b[0;34m\u001b[0m                \u001b[0;32mreturn\u001b[0m \u001b[0mcomb\u001b[0m\u001b[0;34m(\u001b[0m\u001b[0mN\u001b[0m\u001b[0;34m,\u001b[0m \u001b[0mk\u001b[0m\u001b[0;34m)\u001b[0m\u001b[0;34m\u001b[0m\n",
       "\u001b[0;34m\u001b[0m        \u001b[0;31m# _comb_int casts inputs to integers\u001b[0m\u001b[0;34m\u001b[0m\n",
       "\u001b[0;34m\u001b[0m        \u001b[0;32mreturn\u001b[0m \u001b[0m_comb_int\u001b[0m\u001b[0;34m(\u001b[0m\u001b[0mN\u001b[0m\u001b[0;34m,\u001b[0m \u001b[0mk\u001b[0m\u001b[0;34m)\u001b[0m\u001b[0;34m\u001b[0m\n",
       "\u001b[0;34m\u001b[0m    \u001b[0;32melse\u001b[0m\u001b[0;34m:\u001b[0m\u001b[0;34m\u001b[0m\n",
       "\u001b[0;34m\u001b[0m        \u001b[0mk\u001b[0m\u001b[0;34m,\u001b[0m \u001b[0mN\u001b[0m \u001b[0;34m=\u001b[0m \u001b[0masarray\u001b[0m\u001b[0;34m(\u001b[0m\u001b[0mk\u001b[0m\u001b[0;34m)\u001b[0m\u001b[0;34m,\u001b[0m \u001b[0masarray\u001b[0m\u001b[0;34m(\u001b[0m\u001b[0mN\u001b[0m\u001b[0;34m)\u001b[0m\u001b[0;34m\u001b[0m\n",
       "\u001b[0;34m\u001b[0m        \u001b[0mcond\u001b[0m \u001b[0;34m=\u001b[0m \u001b[0;34m(\u001b[0m\u001b[0mk\u001b[0m \u001b[0;34m<=\u001b[0m \u001b[0mN\u001b[0m\u001b[0;34m)\u001b[0m \u001b[0;34m&\u001b[0m \u001b[0;34m(\u001b[0m\u001b[0mN\u001b[0m \u001b[0;34m>=\u001b[0m \u001b[0;36m0\u001b[0m\u001b[0;34m)\u001b[0m \u001b[0;34m&\u001b[0m \u001b[0;34m(\u001b[0m\u001b[0mk\u001b[0m \u001b[0;34m>=\u001b[0m \u001b[0;36m0\u001b[0m\u001b[0;34m)\u001b[0m\u001b[0;34m\u001b[0m\n",
       "\u001b[0;34m\u001b[0m        \u001b[0mvals\u001b[0m \u001b[0;34m=\u001b[0m \u001b[0mbinom\u001b[0m\u001b[0;34m(\u001b[0m\u001b[0mN\u001b[0m\u001b[0;34m,\u001b[0m \u001b[0mk\u001b[0m\u001b[0;34m)\u001b[0m\u001b[0;34m\u001b[0m\n",
       "\u001b[0;34m\u001b[0m        \u001b[0;32mif\u001b[0m \u001b[0misinstance\u001b[0m\u001b[0;34m(\u001b[0m\u001b[0mvals\u001b[0m\u001b[0;34m,\u001b[0m \u001b[0mnp\u001b[0m\u001b[0;34m.\u001b[0m\u001b[0mndarray\u001b[0m\u001b[0;34m)\u001b[0m\u001b[0;34m:\u001b[0m\u001b[0;34m\u001b[0m\n",
       "\u001b[0;34m\u001b[0m            \u001b[0mvals\u001b[0m\u001b[0;34m[\u001b[0m\u001b[0;34m~\u001b[0m\u001b[0mcond\u001b[0m\u001b[0;34m]\u001b[0m \u001b[0;34m=\u001b[0m \u001b[0;36m0\u001b[0m\u001b[0;34m\u001b[0m\n",
       "\u001b[0;34m\u001b[0m        \u001b[0;32melif\u001b[0m \u001b[0;32mnot\u001b[0m \u001b[0mcond\u001b[0m\u001b[0;34m:\u001b[0m\u001b[0;34m\u001b[0m\n",
       "\u001b[0;34m\u001b[0m            \u001b[0mvals\u001b[0m \u001b[0;34m=\u001b[0m \u001b[0mnp\u001b[0m\u001b[0;34m.\u001b[0m\u001b[0mfloat64\u001b[0m\u001b[0;34m(\u001b[0m\u001b[0;36m0\u001b[0m\u001b[0;34m)\u001b[0m\u001b[0;34m\u001b[0m\n",
       "\u001b[0;34m\u001b[0m        \u001b[0;32mreturn\u001b[0m \u001b[0mvals\u001b[0m\u001b[0;34m\u001b[0m\u001b[0;34m\u001b[0m\u001b[0m\n",
       "\u001b[0;31mFile:\u001b[0m      ~/opt/anaconda3/lib/python3.9/site-packages/scipy/special/_basic.py\n",
       "\u001b[0;31mType:\u001b[0m      function"
      ]
     },
     "metadata": {},
     "output_type": "display_data"
    }
   ],
   "source": [
    "from scipy.special import erfinv, comb\n",
    "\n",
    "??comb"
   ]
  },
  {
   "cell_type": "code",
   "execution_count": null,
   "id": "5c26c215-bcae-4fac-a0f9-28944ea9cf45",
   "metadata": {},
   "outputs": [],
   "source": []
  }
 ],
 "metadata": {
  "kernelspec": {
   "display_name": "Python 3 (ipykernel)",
   "language": "python",
   "name": "python3"
  },
  "language_info": {
   "codemirror_mode": {
    "name": "ipython",
    "version": 3
   },
   "file_extension": ".py",
   "mimetype": "text/x-python",
   "name": "python",
   "nbconvert_exporter": "python",
   "pygments_lexer": "ipython3",
   "version": "3.9.16"
  }
 },
 "nbformat": 4,
 "nbformat_minor": 5
}
